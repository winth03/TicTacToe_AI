{
 "cells": [
  {
   "cell_type": "markdown",
   "metadata": {},
   "source": [
    "## Initialization"
   ]
  },
  {
   "cell_type": "code",
   "execution_count": 9,
   "metadata": {},
   "outputs": [],
   "source": [
    "import numpy as np\n",
    "from collections import defaultdict\n",
    "import time\n",
    "import random\n",
    "import ttt as env\n",
    "\n",
    "ACTIONS = 9\n",
    "\n",
    "Q = defaultdict(lambda:np.zeros((ACTIONS)))\n",
    "\n",
    "EPISODES = 1500 # how many times to run the enviornment from the beginning\n",
    "MAX_STEPS = 100  # max number of steps allowed for each run of enviornment\n",
    "\n",
    "LEARNING_RATE = 0.81  # learning rate\n",
    "GAMMA = 0.96\n",
    "\n",
    "RENDER = False # if you want to see training set to true\n",
    "\n",
    "epsilon = 0.9"
   ]
  },
  {
   "cell_type": "code",
   "execution_count": 12,
   "metadata": {},
   "outputs": [
    {
     "data": {
      "text/plain": [
       "<module 'ttt' from 'c:\\\\Users\\\\WinRacingShop\\\\Documents\\\\PythonProjects\\\\TicTacToe_AI\\\\ttt.py'>"
      ]
     },
     "execution_count": 12,
     "metadata": {},
     "output_type": "execute_result"
    }
   ],
   "source": [
    "from importlib import reload\n",
    "reload(env)"
   ]
  },
  {
   "cell_type": "markdown",
   "metadata": {},
   "source": [
    "## Training"
   ]
  },
  {
   "cell_type": "code",
   "execution_count": null,
   "metadata": {},
   "outputs": [],
   "source": [
    "rewards = []\n",
    "for episode in range(EPISODES):\n",
    "\n",
    "  state = env.reset_game()\n",
    "  for _ in range(MAX_STEPS):\n",
    "    \n",
    "    # if RENDER:\n",
    "    #   env.render()\n",
    "\n",
    "    if np.random.uniform(0, 1) < epsilon:\n",
    "      action = random.randint(0, 8)\n",
    "    else:\n",
    "      action = np.argmax(Q[str(state)])\n",
    "\n",
    "    next_state, turn, winner, reward = env.take_action(action)\n",
    "\n",
    "    Q[str(state)][action] = Q[str(state)][action] + LEARNING_RATE * (reward + GAMMA * np.max(Q[str(next_state)]) - Q[str(state)][action])\n",
    "\n",
    "    state = next_state\n",
    "\n",
    "    if winner: \n",
    "      rewards.append(reward)\n",
    "      epsilon -= 0.001\n",
    "      break  # reached goal\n",
    "\n",
    "print(Q)\n",
    "print(f\"Average reward: {sum(rewards)/len(rewards)}:\")\n",
    "# and now we can see our Q values!"
   ]
  },
  {
   "cell_type": "code",
   "execution_count": 22,
   "metadata": {},
   "outputs": [],
   "source": [
    "# Save Q\n",
    "fileName = \"q1.txt\"\n",
    "with open(\"Q_Tables/\"+fileName, \"w\") as f:\n",
    "    f.write(str(Q))"
   ]
  }
 ],
 "metadata": {
  "kernelspec": {
   "display_name": "Python 3.10.6 ('venv': venv)",
   "language": "python",
   "name": "python3"
  },
  "language_info": {
   "codemirror_mode": {
    "name": "ipython",
    "version": 3
   },
   "file_extension": ".py",
   "mimetype": "text/x-python",
   "name": "python",
   "nbconvert_exporter": "python",
   "pygments_lexer": "ipython3",
   "version": "3.10.6"
  },
  "orig_nbformat": 4,
  "vscode": {
   "interpreter": {
    "hash": "90fef512f90af6be725343382cbc07b8afef3544191f0457659712d6b0760fd0"
   }
  }
 },
 "nbformat": 4,
 "nbformat_minor": 2
}
